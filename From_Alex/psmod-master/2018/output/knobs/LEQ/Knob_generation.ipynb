{
 "cells": [
  {
   "cell_type": "code",
   "execution_count": 1,
   "metadata": {},
   "outputs": [
    {
     "name": "stdout",
     "output_type": "stream",
     "text": [
      "Version 0.03. This is the latest version.\n",
      "Please help me to improve it reporting bugs to guido.sterbini@cern.ch.\n"
     ]
    },
    {
     "name": "stderr",
     "output_type": "stream",
     "text": [
      "/cvmfs/sft.cern.ch/lcg/views/LCG_91/x86_64-slc6-gcc62-opt/lib/python2.7/site-packages/matplotlib/font_manager.py:273: UserWarning: Matplotlib is building the font cache using fc-list. This may take a moment.\n",
      "  warnings.warn('Matplotlib is building the font cache using fc-list. This may take a moment.')\n"
     ]
    },
    {
     "name": "stdout",
     "output_type": "stream",
     "text": [
      "Your platform is Linux-3.10.0-693.11.6.el7.x86_64-x86_64-with-redhat-6.9-Carbon\n",
      "Your folder is /eos/user/a/ahuschau/Simulations/PS/optics_repository/iOMC/psmod/2018/output/knobs/LEQ\n",
      "Your IP is 172.17.0.24\n",
      "2018-06-04 14:04:34\n"
     ]
    }
   ],
   "source": [
    "%run /eos/project/l/liu/Toolbox/myToolbox.py\n",
    "\n",
    "%config InlineBackend.figure_format = 'retina'"
   ]
  },
  {
   "cell_type": "code",
   "execution_count": 2,
   "metadata": {},
   "outputs": [
    {
     "data": {
      "text/plain": [
       "['/eos/user/a/ahuschau/Simulations/PS/optics_repository/iOMC/psmod/2018/output/knobs/LEQ/Q_nominal.ks',\n",
       " '/eos/user/a/ahuschau/Simulations/PS/optics_repository/iOMC/psmod/2018/output/knobs/LEQ/dQx_negative.ks',\n",
       " '/eos/user/a/ahuschau/Simulations/PS/optics_repository/iOMC/psmod/2018/output/knobs/LEQ/dQx_positive.ks',\n",
       " '/eos/user/a/ahuschau/Simulations/PS/optics_repository/iOMC/psmod/2018/output/knobs/LEQ/dQy_negative.ks',\n",
       " '/eos/user/a/ahuschau/Simulations/PS/optics_repository/iOMC/psmod/2018/output/knobs/LEQ/dQy_positive.ks']"
      ]
     },
     "execution_count": 2,
     "metadata": {},
     "output_type": "execute_result"
    }
   ],
   "source": [
    "folder = '/eos/user/a/ahuschau/Simulations/PS/optics_repository/iOMC/psmod/2018/output/knobs/LEQ/'\n",
    "files = sorted(glob.glob(folder + '*.ks'))\n",
    "files"
   ]
  },
  {
   "cell_type": "code",
   "execution_count": 3,
   "metadata": {},
   "outputs": [
    {
     "data": {
      "text/html": [
       "<div>\n",
       "<table border=\"1\" class=\"dataframe\">\n",
       "  <thead>\n",
       "    <tr style=\"text-align: right;\">\n",
       "      <th></th>\n",
       "      <th>Qx</th>\n",
       "      <th>Qy</th>\n",
       "      <th>kF</th>\n",
       "      <th>kD</th>\n",
       "    </tr>\n",
       "  </thead>\n",
       "  <tbody>\n",
       "    <tr>\n",
       "      <th>0</th>\n",
       "      <td>0.2454</td>\n",
       "      <td>0.2837</td>\n",
       "      <td>0.000000</td>\n",
       "      <td>0.000000</td>\n",
       "    </tr>\n",
       "    <tr>\n",
       "      <th>1</th>\n",
       "      <td>0.1954</td>\n",
       "      <td>0.2837</td>\n",
       "      <td>-0.002097</td>\n",
       "      <td>0.001180</td>\n",
       "    </tr>\n",
       "    <tr>\n",
       "      <th>2</th>\n",
       "      <td>0.2954</td>\n",
       "      <td>0.2837</td>\n",
       "      <td>0.002049</td>\n",
       "      <td>-0.001134</td>\n",
       "    </tr>\n",
       "    <tr>\n",
       "      <th>3</th>\n",
       "      <td>0.2454</td>\n",
       "      <td>0.2337</td>\n",
       "      <td>-0.001182</td>\n",
       "      <td>0.002121</td>\n",
       "    </tr>\n",
       "    <tr>\n",
       "      <th>4</th>\n",
       "      <td>0.2454</td>\n",
       "      <td>0.3337</td>\n",
       "      <td>0.001137</td>\n",
       "      <td>-0.002080</td>\n",
       "    </tr>\n",
       "  </tbody>\n",
       "</table>\n",
       "</div>"
      ],
      "text/plain": [
       "       Qx      Qy        kF        kD\n",
       "0  0.2454  0.2837  0.000000  0.000000\n",
       "1  0.1954  0.2837 -0.002097  0.001180\n",
       "2  0.2954  0.2837  0.002049 -0.001134\n",
       "3  0.2454  0.2337 -0.001182  0.002121\n",
       "4  0.2454  0.3337  0.001137 -0.002080"
      ]
     },
     "execution_count": 3,
     "metadata": {},
     "output_type": "execute_result"
    }
   ],
   "source": [
    "myDataFrame = pnd.DataFrame(columns = ['Qx', 'Qy', 'kF', 'kD'])\n",
    "\n",
    "for i,f in enumerate(files):\n",
    "    aux = pnd.read_csv(f, header=None)\n",
    "    aux2 = aux[0].str.split().apply(lambda x: np.float(x[2])).to_frame().T\n",
    "    aux2.columns = ['Qx', 'Qy', 'kF', 'kD']\n",
    "    aux2 = aux2.rename(index={0: i})\n",
    "    myDataFrame = myDataFrame.append(aux2)\n",
    "    \n",
    "myDataFrame"
   ]
  },
  {
   "cell_type": "code",
   "execution_count": 4,
   "metadata": {},
   "outputs": [
    {
     "data": {
      "text/html": [
       "<div>\n",
       "<table border=\"1\" class=\"dataframe\">\n",
       "  <thead>\n",
       "    <tr style=\"text-align: right;\">\n",
       "      <th></th>\n",
       "      <th>Qx</th>\n",
       "      <th>Qy</th>\n",
       "      <th>kF</th>\n",
       "      <th>kD</th>\n",
       "      <th>dQx</th>\n",
       "      <th>dQy</th>\n",
       "    </tr>\n",
       "  </thead>\n",
       "  <tbody>\n",
       "    <tr>\n",
       "      <th>0</th>\n",
       "      <td>0.2454</td>\n",
       "      <td>0.2837</td>\n",
       "      <td>0.000000</td>\n",
       "      <td>0.000000</td>\n",
       "      <td>0.00</td>\n",
       "      <td>0.00</td>\n",
       "    </tr>\n",
       "    <tr>\n",
       "      <th>1</th>\n",
       "      <td>0.1954</td>\n",
       "      <td>0.2837</td>\n",
       "      <td>-0.002097</td>\n",
       "      <td>0.001180</td>\n",
       "      <td>-0.05</td>\n",
       "      <td>0.00</td>\n",
       "    </tr>\n",
       "    <tr>\n",
       "      <th>2</th>\n",
       "      <td>0.2954</td>\n",
       "      <td>0.2837</td>\n",
       "      <td>0.002049</td>\n",
       "      <td>-0.001134</td>\n",
       "      <td>0.05</td>\n",
       "      <td>0.00</td>\n",
       "    </tr>\n",
       "    <tr>\n",
       "      <th>3</th>\n",
       "      <td>0.2454</td>\n",
       "      <td>0.2337</td>\n",
       "      <td>-0.001182</td>\n",
       "      <td>0.002121</td>\n",
       "      <td>0.00</td>\n",
       "      <td>-0.05</td>\n",
       "    </tr>\n",
       "    <tr>\n",
       "      <th>4</th>\n",
       "      <td>0.2454</td>\n",
       "      <td>0.3337</td>\n",
       "      <td>0.001137</td>\n",
       "      <td>-0.002080</td>\n",
       "      <td>0.00</td>\n",
       "      <td>0.05</td>\n",
       "    </tr>\n",
       "  </tbody>\n",
       "</table>\n",
       "</div>"
      ],
      "text/plain": [
       "       Qx      Qy        kF        kD   dQx   dQy\n",
       "0  0.2454  0.2837  0.000000  0.000000  0.00  0.00\n",
       "1  0.1954  0.2837 -0.002097  0.001180 -0.05  0.00\n",
       "2  0.2954  0.2837  0.002049 -0.001134  0.05  0.00\n",
       "3  0.2454  0.2337 -0.001182  0.002121  0.00 -0.05\n",
       "4  0.2454  0.3337  0.001137 -0.002080  0.00  0.05"
      ]
     },
     "execution_count": 4,
     "metadata": {},
     "output_type": "execute_result"
    }
   ],
   "source": [
    "myDataFrame['dQx'] = myDataFrame['Qx']-myDataFrame['Qx'].iloc[0]\n",
    "myDataFrame['dQy'] = myDataFrame['Qy']-myDataFrame['Qy'].iloc[0]\n",
    "myDataFrame"
   ]
  },
  {
   "cell_type": "markdown",
   "metadata": {},
   "source": [
    "# Knob computation"
   ]
  },
  {
   "cell_type": "code",
   "execution_count": 32,
   "metadata": {},
   "outputs": [],
   "source": [
    "knobLEQ = pnd.DataFrame(index = [0], columns = ['dkF_H', 'dkD_H', 'dkF_V', 'dkD_V'])"
   ]
  },
  {
   "cell_type": "code",
   "execution_count": 33,
   "metadata": {},
   "outputs": [
    {
     "name": "stdout",
     "output_type": "stream",
     "text": [
      "dkF_H = 0.04146850823\n",
      "dkD_H = -0.02313765143\n"
     ]
    }
   ],
   "source": [
    "#horizontal tune knob\n",
    "knobLEQ['dkF_H'] = (myDataFrame['kF'][2]-myDataFrame['kF'][1])/(myDataFrame['dQx'][2]-myDataFrame['dQx'][1])\n",
    "knobLEQ['dkD_H'] = (myDataFrame['kD'][2]-myDataFrame['kD'][1])/(myDataFrame['dQx'][2]-myDataFrame['dQx'][1])\n",
    "\n",
    "print('dkF_H = ' + str(dkF_H))\n",
    "print('dkD_H = ' + str(dkD_H))"
   ]
  },
  {
   "cell_type": "code",
   "execution_count": 34,
   "metadata": {},
   "outputs": [
    {
     "name": "stdout",
     "output_type": "stream",
     "text": [
      "dkF_V = 0.02318755982\n",
      "dkD_V = -0.0420109205\n"
     ]
    }
   ],
   "source": [
    "#vertical tune knob\n",
    "knobLEQ['dkF_V'] = (myDataFrame['kF'][4]-myDataFrame['kF'][3])/(myDataFrame['dQy'][4]-myDataFrame['dQy'][3])\n",
    "knobLEQ['dkD_V'] = (myDataFrame['kD'][4]-myDataFrame['kD'][3])/(myDataFrame['dQy'][4]-myDataFrame['dQy'][3])\n",
    "\n",
    "print('dkF_V = ' + str(dkF_V))\n",
    "print('dkD_V = ' + str(dkD_V))"
   ]
  },
  {
   "cell_type": "code",
   "execution_count": 35,
   "metadata": {},
   "outputs": [],
   "source": [
    "knobLEQ.to_pickle('knob_LEQ.pkl')"
   ]
  },
  {
   "cell_type": "code",
   "execution_count": 48,
   "metadata": {},
   "outputs": [],
   "source": [
    "def knob_LEQ(dQ_H, dQ_V):\n",
    "    knobLEQ = pnd.read_pickle('knob_LEQ.pkl')\n",
    "    kd = dQ_H * knobLEQ['dkD_H'] + dQ_V * knobLEQ['dkD_V']\n",
    "    kf = dQ_H * knobLEQ['dkF_H'] + dQ_V * knobLEQ['dkF_V']\n",
    "    return kf[0], kd[0]\n",
    "    "
   ]
  },
  {
   "cell_type": "code",
   "execution_count": 61,
   "metadata": {},
   "outputs": [
    {
     "data": {
      "text/plain": [
       "(-0.0011593779910000002, 0.0021005460250000003)"
      ]
     },
     "execution_count": 61,
     "metadata": {},
     "output_type": "execute_result"
    }
   ],
   "source": [
    "dQ_H = -0.05\n",
    "\n",
    "knob_LEQ(0, dQ_H)"
   ]
  },
  {
   "cell_type": "markdown",
   "metadata": {},
   "source": [
    "# Tune reconstruction from knob"
   ]
  },
  {
   "cell_type": "code",
   "execution_count": 62,
   "metadata": {},
   "outputs": [],
   "source": [
    "def knob_Q(kf, kd):\n",
    "    knobLEQ = pnd.read_pickle('knob_LEQ.pkl')\n",
    "    dQ_H = (kf - kd * knobLEQ['dkF_V']/knobLEQ['dkD_V']) / (knobLEQ['dkF_H'] - knobLEQ['dkD_H']/knobLEQ['dkD_V']*knobLEQ['dkF_V'])\n",
    "    dQ_V = (kf - kd * knobLEQ['dkF_H']/knobLEQ['dkD_H']) / (knobLEQ['dkF_V'] - knobLEQ['dkD_V']/knobLEQ['dkD_H']*knobLEQ['dkF_H'])\n",
    "    return dQ_H[0], dQ_V[0]"
   ]
  },
  {
   "cell_type": "code",
   "execution_count": 64,
   "metadata": {},
   "outputs": [
    {
     "data": {
      "text/plain": [
       "(0.0, -0.05000000000000001)"
      ]
     },
     "execution_count": 64,
     "metadata": {},
     "output_type": "execute_result"
    }
   ],
   "source": [
    "knob_Q(-0.0011593779910000002, 0.0021005460250000003)"
   ]
  },
  {
   "cell_type": "code",
   "execution_count": null,
   "metadata": {},
   "outputs": [],
   "source": []
  }
 ],
 "metadata": {
  "kernelspec": {
   "display_name": "Python 2",
   "language": "python",
   "name": "python2"
  },
  "language_info": {
   "codemirror_mode": {
    "name": "ipython",
    "version": 2
   },
   "file_extension": ".py",
   "mimetype": "text/x-python",
   "name": "python",
   "nbconvert_exporter": "python",
   "pygments_lexer": "ipython2",
   "version": "2.7.13"
  }
 },
 "nbformat": 4,
 "nbformat_minor": 1
}
