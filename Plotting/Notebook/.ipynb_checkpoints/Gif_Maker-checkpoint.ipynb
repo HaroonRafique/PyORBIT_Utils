{
 "cells": [
  {
   "cell_type": "code",
   "execution_count": null,
   "metadata": {},
   "outputs": [],
   "source": [
    "import os\n",
    "import glob\n",
    "import imageio"
   ]
  },
  {
   "cell_type": "markdown",
   "metadata": {},
   "source": [
    "# Read Files"
   ]
  },
  {
   "cell_type": "code",
   "execution_count": null,
   "metadata": {
    "scrolled": true
   },
   "outputs": [],
   "source": [
    "input_folder = 'X'\n",
    "input_filenames = []\n",
    "\n",
    "os.chdir(input_folder)\n",
    "\n",
    "for file in glob.glob('*.png'):\n",
    "    print file\n",
    "    print file.split('/')[-1]\n",
    "    input_filenames.append(file.split('/')[-1])\n",
    "    \n"
   ]
  },
  {
   "cell_type": "markdown",
   "metadata": {},
   "source": [
    "# Create Gif"
   ]
  },
  {
   "cell_type": "code",
   "execution_count": null,
   "metadata": {},
   "outputs": [],
   "source": [
    "print 'Creating GIF'\n",
    "images = []\n",
    "for filename in sorted(input_filenames):\n",
    "    images.append(imageio.imread(filename))\n",
    "gif_savename = input_filenames[0][:10] + '.gif'\n",
    "imageio.mimsave(gif_savename, images)\n",
    "print 'GIF Created'"
   ]
  },
  {
   "cell_type": "code",
   "execution_count": null,
   "metadata": {},
   "outputs": [],
   "source": []
  }
 ],
 "metadata": {
  "kernelspec": {
   "display_name": "Python 2",
   "language": "python",
   "name": "python2"
  },
  "language_info": {
   "codemirror_mode": {
    "name": "ipython",
    "version": 2
   },
   "file_extension": ".py",
   "mimetype": "text/x-python",
   "name": "python",
   "nbconvert_exporter": "python",
   "pygments_lexer": "ipython2",
   "version": "2.7.15"
  }
 },
 "nbformat": 4,
 "nbformat_minor": 2
}
