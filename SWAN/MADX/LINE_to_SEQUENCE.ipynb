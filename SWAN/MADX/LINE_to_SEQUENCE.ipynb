{
 "cells": [
  {
   "cell_type": "code",
   "execution_count": 2,
   "metadata": {},
   "outputs": [
    {
     "name": "stdout",
     "output_type": "stream",
     "text": [
      "\n"
     ]
    }
   ],
   "source": [
    "##########################################\n",
    "# Convert MADX LINE to SEQUENCE manually #\n",
    "# assuming that we have the sequence     #\n",
    "# elements already defined               #\n",
    "##########################################\n",
    "\n",
    "import numpy as np\n",
    "import copy as cp\n",
    "\n",
    "# Check that adding each element works\n",
    "def AddToSequence (element, L):\n",
    "    print 'Element_L =', element\n",
    "    L_tot = L + element\n",
    "    print 'Total_L = ', L_tot\n",
    "    return L_tot\n",
    "\n",
    "# Calculate total length (needed for sequence declaration)\n",
    "# Argument is an array, each element is a length\n",
    "def GetTotalLength (LINE):\n",
    "    L_tot = 0.\n",
    "    for i in LINE:\n",
    "        L_tot = L_tot + i\n",
    "    return L_tot   \n",
    "\n",
    "# Calculate total length (needed for sequence declaration)\n",
    "# Argument is a 2D array (name, length)\n",
    "def GetTotalLengthArray (A):\n",
    "    L_tot = 0.\n",
    "    for i in A:\n",
    "        L_tot = L_tot + i[1]\n",
    "    return L_tot  \n",
    "\n",
    "# Make the sequence\n",
    "# Takes an array of lengths, a corresponding array of names, and an initial Length\n",
    "def MakeSequence (LINE_element, LINE_element_name, L):\n",
    "    # Print the sequence like:\n",
    "    #SEC1,  at =   0.00000;\n",
    "    #SEC2,  at =  62.8318530718;\n",
    "    print LINE_element_name, ',  at =  ', L\n",
    "    L_tot = L + LINE_element\n",
    "    return L_tot    \n",
    "  \n",
    "\n",
    "# Make the sequence from existing LINE\n",
    "# Takes two 2D arrays (name, length), and a current length\n",
    "def AppendLineToSequence (LINE_1, LINE_2, L):\n",
    "    LINE_3=[]\n",
    "    LINE_4=[]\n",
    "    LINE_3 = cp.copy(LINE_1) #stop an infinite loop if LINE1 == LINE2\n",
    "    LINE_4 = cp.copy(LINE_2) #stop an infinite loop if LINE1 == LINE2\n",
    "    i = len(LINE_4) #element index\n",
    "    L_ = L\n",
    "    j = 0\n",
    "    \n",
    "    while j < i:\n",
    "        LINE_3.append([LINE_4[j][0], LINE_4[j][1]])\n",
    "        L_ = L_ + LINE_4[j][1]\n",
    "        j = j+1\n",
    "            \n",
    "    return L_, LINE_3\n",
    "\n",
    "# Make the sequence from a single LINE, repeated N times\n",
    "# Takes a 2D array (name, length), a repetition number, and a current length\n",
    "def RepeatLineToSequence (LINE_1, N, L):\n",
    "    LINE_3=[]\n",
    "    LINE_4=[]\n",
    "    LINE_3 = cp.copy(LINE_1) # dynamic copy (grows)\n",
    "    LINE_4 = cp.copy(LINE_1) # static copy\n",
    "    i = len(LINE_4) #element index\n",
    "    L_ = L\n",
    "    j = 0\n",
    "    k = 0\n",
    "    \n",
    "    while k < (N-1):\n",
    "        while j < i:\n",
    "            LINE_3.append([LINE_4[j][0], LINE_4[j][1]])\n",
    "            L_ = L_ + LINE_4[j][1]\n",
    "            j += 1\n",
    "        k += 1\n",
    "        j = 0\n",
    "            \n",
    "    return L_, LINE_3"
   ]
  },
  {
   "cell_type": "code",
   "execution_count": 3,
   "metadata": {
    "collapsed": true
   },
   "outputs": [],
   "source": [
    "#TITLE, \" -- SIS18 with a sextupole -- \"\n",
    "\n",
    "#!---------------------  DRIFT SPACES DEFINITION  ---------------------\n",
    "DR1 = 0.6450000\n",
    "DR2 = 0.9700000\n",
    "DR3 = 6.8390117\n",
    "DR4 = 0.6000000\n",
    "DR5 = 0.7098000\n",
    "DR6 = 0.4998000\n",
    "\n",
    "RADDEG = (np.pi / 180.)\n",
    "\n",
    "#!--------------------------  BENDING MAGNET ---------------------------\n",
    "ALPHA = 15  * RADDEG\n",
    "LL = 150 * RADDEG\n",
    "PFR = 7.3 * RADDEG\n",
    "\n",
    "#RB: SBEND,TYPE=B1,L= LL,ANGLE= ALPHA,E1= PFR,E2=PFR,HGAP= 0.035 \n",
    "RB = LL\n",
    "\n",
    "#! ------------------- horizontal quadrupole ----------------------------\n",
    "#QS1F:  QUADRUPOLE, TYPE= QD1, L= 1.0400000,  K1=  0.311872401\n",
    "#QS2D:  QUADRUPOLE, TYPE= QD2, L= 1.0400000,  K1= -0.496504354\n",
    "#QS3T:  QUADRUPOLE, TYPE= QD3, L= 0.4804000,  K1=  0.62221964 \n",
    "\n",
    "QS1F = 1.04\n",
    "QS2D = 1.04\n",
    "QS3T = 0.4804\n",
    "\n",
    "#! ------------------- normal sextupole ---------------------------------\n",
    "#!S:     MULTIPOLE, K2L = 0.2\n",
    "#S:     MULTIPOLE, K2L = 0.0\n",
    "S = 0\n",
    "\n",
    "#! ---------------------------  LINE DEFINITION -------------------------\n",
    "#CELL:  LINE=(DR1,RB,DR2,RB,DR3,QS1F,DR4,QS2D,DR5,QS3T,DR6)"
   ]
  },
  {
   "cell_type": "code",
   "execution_count": 4,
   "metadata": {},
   "outputs": [
    {
     "data": {
      "text/plain": [
       "18.05999945598299"
      ]
     },
     "execution_count": 4,
     "metadata": {},
     "output_type": "execute_result"
    }
   ],
   "source": [
    "#######################\n",
    "# Define MADX 'LINEs' #\n",
    "#######################\n",
    "CELL = [DR1,RB,DR2,RB,DR3,QS1F,DR4,QS2D,DR5,QS3T,DR6]\n",
    "CELL_names = ['DR1','RB','DR2','RB','DR3','QS1F','DR4','QS2D','DR5','QS3T','DR6']\n",
    "\n",
    "GetTotalLength(CELL)\n"
   ]
  },
  {
   "cell_type": "code",
   "execution_count": 5,
   "metadata": {},
   "outputs": [
    {
     "name": "stdout",
     "output_type": "stream",
     "text": [
      "CELL =  [0.645, 2.6179938779914944, 0.97, 2.6179938779914944, 6.8390117, 1.04, 0.6, 1.04, 0.7098, 0.4804, 0.4998]\n",
      "CELL_names =  ['DR1', 'RB', 'DR2', 'RB', 'DR3', 'QS1F', 'DR4', 'QS2D', 'DR5', 'QS3T', 'DR6']\n",
      "L_tot = 0.0\n"
     ]
    }
   ],
   "source": [
    "# Some checks\n",
    "L_tot = 0.\n",
    "print 'CELL = ', CELL\n",
    "print 'CELL_names = ', CELL_names\n",
    "print 'L_tot =', L_tot"
   ]
  },
  {
   "cell_type": "code",
   "execution_count": 6,
   "metadata": {},
   "outputs": [
    {
     "name": "stdout",
     "output_type": "stream",
     "text": [
      "Element_L = 0.645\n",
      "Total_L =  0.645\n",
      "DR1 0.645\n",
      "Element_L = 2.61799387799\n",
      "Total_L =  3.26299387799\n",
      "RB 3.26299387799\n",
      "Element_L = 0.97\n",
      "Total_L =  4.23299387799\n",
      "DR2 4.23299387799\n",
      "Element_L = 2.61799387799\n",
      "Total_L =  6.85098775598\n",
      "RB 6.85098775598\n",
      "Element_L = 6.8390117\n",
      "Total_L =  13.689999456\n",
      "DR3 13.689999456\n",
      "Element_L = 1.04\n",
      "Total_L =  14.729999456\n",
      "QS1F 14.729999456\n",
      "Element_L = 0.6\n",
      "Total_L =  15.329999456\n",
      "DR4 15.329999456\n",
      "Element_L = 1.04\n",
      "Total_L =  16.369999456\n",
      "QS2D 16.369999456\n",
      "Element_L = 0.7098\n",
      "Total_L =  17.079799456\n",
      "DR5 17.079799456\n",
      "Element_L = 0.4804\n",
      "Total_L =  17.560199456\n",
      "QS3T 17.560199456\n",
      "Element_L = 0.4998\n",
      "Total_L =  18.059999456\n",
      "DR6 18.059999456\n"
     ]
    }
   ],
   "source": [
    "########################################\n",
    "# Check that the function method works #\n",
    "########################################\n",
    "j = 0\n",
    "for i in CELL:\n",
    "    L_tot = AddToSequence(i,L_tot)\n",
    "    print CELL_names[j], L_tot\n",
    "    j = j+1\n"
   ]
  },
  {
   "cell_type": "code",
   "execution_count": 7,
   "metadata": {},
   "outputs": [
    {
     "name": "stdout",
     "output_type": "stream",
     "text": [
      "SIS18  : SEQUENCE, REFER=ENTRY, L =  18.059999456\n",
      "DR1 ,  at =   0.0\n",
      "RB ,  at =   0.645\n",
      "DR2 ,  at =   3.26299387799\n",
      "RB ,  at =   4.23299387799\n",
      "DR3 ,  at =   6.85098775598\n",
      "QS1F ,  at =   13.689999456\n",
      "DR4 ,  at =   14.729999456\n",
      "QS2D ,  at =   15.329999456\n",
      "DR5 ,  at =   16.369999456\n",
      "QS3T ,  at =   17.079799456\n",
      "DR6 ,  at =   17.560199456\n",
      "ENDMARK,at=  18.059999456\n"
     ]
    }
   ],
   "source": [
    "#####################\n",
    "# Make the sequence #\n",
    "#####################\n",
    "\n",
    "#PS : SEQUENCE, REFER=ENTRY, L = 628.318530718;\n",
    "#SEC1,  at =   0.00000;\n",
    "#SEC2,  at =  62.8318530718;\n",
    "#SEC3,  at = 125.6637061436;\n",
    "#SEC4,  at = 188.4955592154;\n",
    "#SEC5,  at = 251.3274122872;\n",
    "#SEC6,  at = 314.1592653590;\n",
    "#SEC7,  at = 376.9911184308;\n",
    "#SEC8,  at = 439.8229715026;\n",
    "#SEC9,  at = 502.6548245744;\n",
    "#SEC0,  at = 565.4866776462;\n",
    "#ENDMARK,at= 628.3185307180;\n",
    "#ENDSEQUENCE;\n",
    "\n",
    "SEQ_NAME = 'SIS18'\n",
    "print SEQ_NAME, ' : SEQUENCE, REFER=ENTRY, L = ', GetTotalLength(CELL)\n",
    "\n",
    "L_tot = 0.\n",
    "j = 0\n",
    "\n",
    "for i in CELL:\n",
    "    L_check = L_tot  \n",
    "    L_tot = MakeSequence(i,CELL_names[j], L_tot)\n",
    "    j = j+1\n",
    "  \n",
    "print 'ENDMARK,at= ', GetTotalLength(CELL)"
   ]
  },
  {
   "cell_type": "code",
   "execution_count": 8,
   "metadata": {},
   "outputs": [
    {
     "name": "stdout",
     "output_type": "stream",
     "text": [
      "18.059999456\n"
     ]
    }
   ],
   "source": [
    "# Check that the total length is correct\n",
    "print L_check+CELL[-1]"
   ]
  },
  {
   "cell_type": "code",
   "execution_count": 9,
   "metadata": {
    "collapsed": true
   },
   "outputs": [],
   "source": [
    "#########################################\n",
    "# Create a SEQUENCE from repeated LINEs #\n",
    "#########################################\n"
   ]
  },
  {
   "cell_type": "code",
   "execution_count": 10,
   "metadata": {},
   "outputs": [
    {
     "name": "stdout",
     "output_type": "stream",
     "text": [
      "[['DR1', 0.645], ['RB', 2.6179938779914944], ['DR2', 0.97], ['RB', 2.6179938779914944], ['DR3', 6.8390117], ['QS1F', 1.04], ['DR4', 0.6], ['QS2D', 1.04], ['DR5', 0.7098], ['QS3T', 0.4804], ['DR6', 0.4998]]\n"
     ]
    }
   ],
   "source": [
    "# First create an array of pairs (name, length)\n",
    "LINEB = []\n",
    "k = 0\n",
    "for i in CELL:\n",
    "    LINEB.append([])\n",
    "    LINEB[k].append(CELL_names[k])\n",
    "    LINEB[k].append(CELL[k])\n",
    "    k = k+1\n",
    "    \n",
    "print LINEB"
   ]
  },
  {
   "cell_type": "code",
   "execution_count": 11,
   "metadata": {},
   "outputs": [
    {
     "name": "stdout",
     "output_type": "stream",
     "text": [
      "First element in LINE  DR1  has length  0.645  m\n",
      "Last element in LINE  DR6  has length  0.4998  m\n"
     ]
    }
   ],
   "source": [
    "# Check accessor indices\n",
    "# [i][0] = element i name\n",
    "# [i][1] = element i length\n",
    "\n",
    "print 'First element in LINE ',LINEB[0][0],' has length ',LINEB[0][1],' m'\n",
    "print 'Last element in LINE ',LINEB[-1][0],' has length ',LINEB[-1][1],' m'"
   ]
  },
  {
   "cell_type": "code",
   "execution_count": 12,
   "metadata": {},
   "outputs": [
    {
     "name": "stdout",
     "output_type": "stream",
     "text": [
      "[['DR1', 0.645], ['RB', 2.6179938779914944], ['DR2', 0.97], ['RB', 2.6179938779914944], ['DR3', 6.8390117], ['QS1F', 1.04], ['DR4', 0.6], ['QS2D', 1.04], ['DR5', 0.7098], ['QS3T', 0.4804], ['DR6', 0.4998]]\n",
      "[['DR1', 0.645], ['RB', 2.6179938779914944], ['DR2', 0.97], ['RB', 2.6179938779914944], ['DR3', 6.8390117], ['QS1F', 1.04], ['DR4', 0.6], ['QS2D', 1.04], ['DR5', 0.7098], ['QS3T', 0.4804], ['DR6', 0.4998]]\n"
     ]
    }
   ],
   "source": [
    "TESTLINE1 = cp.copy(LINEB)\n",
    "TESTLINE2 = cp.copy(LINEB)\n",
    "print TESTLINE1\n",
    "print TESTLINE2"
   ]
  },
  {
   "cell_type": "code",
   "execution_count": 13,
   "metadata": {},
   "outputs": [
    {
     "name": "stdout",
     "output_type": "stream",
     "text": [
      "\n",
      "L_test =  18.059999456\n",
      "\n",
      "TESTLINE_OUT =  [['DR1', 0.645], ['RB', 2.6179938779914944], ['DR2', 0.97], ['RB', 2.6179938779914944], ['DR3', 6.8390117], ['QS1F', 1.04], ['DR4', 0.6], ['QS2D', 1.04], ['DR5', 0.7098], ['QS3T', 0.4804], ['DR6', 0.4998], ['DR1', 0.645], ['RB', 2.6179938779914944], ['DR2', 0.97], ['RB', 2.6179938779914944], ['DR3', 6.8390117], ['QS1F', 1.04], ['DR4', 0.6], ['QS2D', 1.04], ['DR5', 0.7098], ['QS3T', 0.4804], ['DR6', 0.4998]]\n"
     ]
    }
   ],
   "source": [
    "TESTLINE_OUT =[]\n",
    "\n",
    "L_test = 0.\n",
    "L_test, TESTLINE_OUT = AppendLineToSequence(TESTLINE1, TESTLINE2, L_test)\n",
    "print '\\nL_test = ',L_test\n",
    "print '\\nTESTLINE_OUT = ',TESTLINE_OUT"
   ]
  },
  {
   "cell_type": "code",
   "execution_count": 14,
   "metadata": {},
   "outputs": [
    {
     "name": "stdout",
     "output_type": "stream",
     "text": [
      "len(TESTLINE_OUT)= 22\n",
      "len(TESTLINE1)= 11\n",
      "len(TESTLINE2)= 11\n"
     ]
    }
   ],
   "source": [
    "#print TESTLINE_OUT\n",
    "print 'len(TESTLINE_OUT)=',len(TESTLINE_OUT)\n",
    "\n",
    "#print TESTLINE1\n",
    "print 'len(TESTLINE1)=',len(TESTLINE1)\n",
    "\n",
    "#print TESTLINE2\n",
    "print 'len(TESTLINE2)=',len(TESTLINE2)"
   ]
  },
  {
   "cell_type": "code",
   "execution_count": 15,
   "metadata": {},
   "outputs": [
    {
     "name": "stdout",
     "output_type": "stream",
     "text": [
      "SIS18  : SEQUENCE, REFER=ENTRY, L =  36.119998912\n",
      "DR1 ,  at =   0.0\n",
      "RB ,  at =   0.645\n",
      "DR2 ,  at =   3.26299387799\n",
      "RB ,  at =   4.23299387799\n",
      "DR3 ,  at =   6.85098775598\n",
      "QS1F ,  at =   13.689999456\n",
      "DR4 ,  at =   14.729999456\n",
      "QS2D ,  at =   15.329999456\n",
      "DR5 ,  at =   16.369999456\n",
      "QS3T ,  at =   17.079799456\n",
      "DR6 ,  at =   17.560199456\n",
      "DR1 ,  at =   18.059999456\n",
      "RB ,  at =   18.704999456\n",
      "DR2 ,  at =   21.322993334\n",
      "RB ,  at =   22.292993334\n",
      "DR3 ,  at =   24.910987212\n",
      "QS1F ,  at =   31.749998912\n",
      "DR4 ,  at =   32.789998912\n",
      "QS2D ,  at =   33.389998912\n",
      "DR5 ,  at =   34.429998912\n",
      "QS3T ,  at =   35.139798912\n",
      "DR6 ,  at =   35.620198912\n",
      "ENDMARK,at=  36.119998912\n"
     ]
    }
   ],
   "source": [
    "SEQ_NAME = 'SIS18'\n",
    "print SEQ_NAME, ' : SEQUENCE, REFER=ENTRY, L = ', GetTotalLengthArray(TESTLINE_OUT)\n",
    "\n",
    "L_tot = 0.\n",
    "\n",
    "for i in TESTLINE_OUT:\n",
    "    L_check = L_tot  \n",
    "    print i[0], ',  at =  ', L_tot\n",
    "    L_tot = L_tot + i[1]\n",
    "  \n",
    "print 'ENDMARK,at= ', GetTotalLengthArray(TESTLINE_OUT)"
   ]
  },
  {
   "cell_type": "code",
   "execution_count": 16,
   "metadata": {},
   "outputs": [
    {
     "name": "stdout",
     "output_type": "stream",
     "text": [
      "36.119998912\n"
     ]
    }
   ],
   "source": [
    "# Check that the total length is correct\n",
    "print L_check+TESTLINE_OUT[-1][1]"
   ]
  },
  {
   "cell_type": "code",
   "execution_count": 17,
   "metadata": {},
   "outputs": [
    {
     "name": "stdout",
     "output_type": "stream",
     "text": [
      "[['DR1', 0.645], ['RB', 2.6179938779914944], ['DR2', 0.97], ['RB', 2.6179938779914944], ['DR3', 6.8390117], ['QS1F', 1.04], ['DR4', 0.6], ['QS2D', 1.04], ['DR5', 0.7098], ['QS3T', 0.4804], ['DR6', 0.4998]]\n"
     ]
    }
   ],
   "source": [
    "#MACHINE: LINE=(CELL, S, 11*CELL)\n",
    "period = 12\n",
    "\n",
    "LINE = []\n",
    "k = 0\n",
    "for i in CELL:\n",
    "    LINE.append([])\n",
    "    LINE[k].append(CELL_names[k])\n",
    "    LINE[k].append(CELL[k])\n",
    "    k = k+1\n",
    "    \n",
    "print LINE"
   ]
  },
  {
   "cell_type": "code",
   "execution_count": 18,
   "metadata": {},
   "outputs": [
    {
     "name": "stdout",
     "output_type": "stream",
     "text": [
      "[['DR1', 0.645], ['RB', 2.6179938779914944], ['DR2', 0.97], ['RB', 2.6179938779914944], ['DR3', 6.8390117], ['QS1F', 1.04], ['DR4', 0.6], ['QS2D', 1.04], ['DR5', 0.7098], ['QS3T', 0.4804], ['DR6', 0.4998]]\n"
     ]
    }
   ],
   "source": [
    "CELL_LINE = cp.copy(LINE)\n",
    "print CELL_LINE"
   ]
  },
  {
   "cell_type": "code",
   "execution_count": 19,
   "metadata": {},
   "outputs": [
    {
     "name": "stdout",
     "output_type": "stream",
     "text": [
      "L_test =  0.0\n",
      "FIRST_LINE =  [['DR1', 0.645], ['RB', 2.6179938779914944], ['DR2', 0.97], ['RB', 2.6179938779914944], ['DR3', 6.8390117], ['QS1F', 1.04], ['DR4', 0.6], ['QS2D', 1.04], ['DR5', 0.7098], ['QS3T', 0.4804], ['DR6', 0.4998], ['S', 0.0]]\n"
     ]
    }
   ],
   "source": [
    "# Create first part of sequence (CELL + Sextupole)\n",
    "\n",
    "L_test = 0.\n",
    "CELL_S = [['S', 0.0]]\n",
    "FIRST_LINE =[]\n",
    "L_test, FIRST_LINE = AppendLineToSequence(CELL_LINE, CELL_S, L_test)\n",
    "\n",
    "print 'L_test = ', L_test\n",
    "print 'FIRST_LINE = ', FIRST_LINE"
   ]
  },
  {
   "cell_type": "code",
   "execution_count": 20,
   "metadata": {},
   "outputs": [
    {
     "name": "stdout",
     "output_type": "stream",
     "text": [
      "180.59999456\n",
      "SEC_LINE =  [['DR1', 0.645], ['RB', 2.6179938779914944], ['DR2', 0.97], ['RB', 2.6179938779914944], ['DR3', 6.8390117], ['QS1F', 1.04], ['DR4', 0.6], ['QS2D', 1.04], ['DR5', 0.7098], ['QS3T', 0.4804], ['DR6', 0.4998], ['DR1', 0.645], ['RB', 2.6179938779914944], ['DR2', 0.97], ['RB', 2.6179938779914944], ['DR3', 6.8390117], ['QS1F', 1.04], ['DR4', 0.6], ['QS2D', 1.04], ['DR5', 0.7098], ['QS3T', 0.4804], ['DR6', 0.4998], ['DR1', 0.645], ['RB', 2.6179938779914944], ['DR2', 0.97], ['RB', 2.6179938779914944], ['DR3', 6.8390117], ['QS1F', 1.04], ['DR4', 0.6], ['QS2D', 1.04], ['DR5', 0.7098], ['QS3T', 0.4804], ['DR6', 0.4998], ['DR1', 0.645], ['RB', 2.6179938779914944], ['DR2', 0.97], ['RB', 2.6179938779914944], ['DR3', 6.8390117], ['QS1F', 1.04], ['DR4', 0.6], ['QS2D', 1.04], ['DR5', 0.7098], ['QS3T', 0.4804], ['DR6', 0.4998], ['DR1', 0.645], ['RB', 2.6179938779914944], ['DR2', 0.97], ['RB', 2.6179938779914944], ['DR3', 6.8390117], ['QS1F', 1.04], ['DR4', 0.6], ['QS2D', 1.04], ['DR5', 0.7098], ['QS3T', 0.4804], ['DR6', 0.4998], ['DR1', 0.645], ['RB', 2.6179938779914944], ['DR2', 0.97], ['RB', 2.6179938779914944], ['DR3', 6.8390117], ['QS1F', 1.04], ['DR4', 0.6], ['QS2D', 1.04], ['DR5', 0.7098], ['QS3T', 0.4804], ['DR6', 0.4998], ['DR1', 0.645], ['RB', 2.6179938779914944], ['DR2', 0.97], ['RB', 2.6179938779914944], ['DR3', 6.8390117], ['QS1F', 1.04], ['DR4', 0.6], ['QS2D', 1.04], ['DR5', 0.7098], ['QS3T', 0.4804], ['DR6', 0.4998], ['DR1', 0.645], ['RB', 2.6179938779914944], ['DR2', 0.97], ['RB', 2.6179938779914944], ['DR3', 6.8390117], ['QS1F', 1.04], ['DR4', 0.6], ['QS2D', 1.04], ['DR5', 0.7098], ['QS3T', 0.4804], ['DR6', 0.4998], ['DR1', 0.645], ['RB', 2.6179938779914944], ['DR2', 0.97], ['RB', 2.6179938779914944], ['DR3', 6.8390117], ['QS1F', 1.04], ['DR4', 0.6], ['QS2D', 1.04], ['DR5', 0.7098], ['QS3T', 0.4804], ['DR6', 0.4998], ['DR1', 0.645], ['RB', 2.6179938779914944], ['DR2', 0.97], ['RB', 2.6179938779914944], ['DR3', 6.8390117], ['QS1F', 1.04], ['DR4', 0.6], ['QS2D', 1.04], ['DR5', 0.7098], ['QS3T', 0.4804], ['DR6', 0.4998], ['DR1', 0.645], ['RB', 2.6179938779914944], ['DR2', 0.97], ['RB', 2.6179938779914944], ['DR3', 6.8390117], ['QS1F', 1.04], ['DR4', 0.6], ['QS2D', 1.04], ['DR5', 0.7098], ['QS3T', 0.4804], ['DR6', 0.4998]]\n"
     ]
    }
   ],
   "source": [
    "# Create second part of sequence (11*CELL)\n",
    "\n",
    "SEC_LINE = []\n",
    "L_2 = 0.\n",
    "L_2, SEC_LINE = RepeatLineToSequence(CELL_LINE, 11, L_2)\n",
    "print L_2\n",
    "print 'SEC_LINE = ', SEC_LINE"
   ]
  },
  {
   "cell_type": "code",
   "execution_count": 21,
   "metadata": {},
   "outputs": [
    {
     "name": "stdout",
     "output_type": "stream",
     "text": [
      "121\n",
      "121\n"
     ]
    }
   ],
   "source": [
    "print len(SEC_LINE)\n",
    "print (11 * 11)"
   ]
  },
  {
   "cell_type": "code",
   "execution_count": 22,
   "metadata": {},
   "outputs": [
    {
     "name": "stdout",
     "output_type": "stream",
     "text": [
      "198.659994016\n",
      "[['DR1', 0.645], ['RB', 2.6179938779914944], ['DR2', 0.97], ['RB', 2.6179938779914944], ['DR3', 6.8390117], ['QS1F', 1.04], ['DR4', 0.6], ['QS2D', 1.04], ['DR5', 0.7098], ['QS3T', 0.4804], ['DR6', 0.4998], ['S', 0.0], ['DR1', 0.645], ['RB', 2.6179938779914944], ['DR2', 0.97], ['RB', 2.6179938779914944], ['DR3', 6.8390117], ['QS1F', 1.04], ['DR4', 0.6], ['QS2D', 1.04], ['DR5', 0.7098], ['QS3T', 0.4804], ['DR6', 0.4998], ['DR1', 0.645], ['RB', 2.6179938779914944], ['DR2', 0.97], ['RB', 2.6179938779914944], ['DR3', 6.8390117], ['QS1F', 1.04], ['DR4', 0.6], ['QS2D', 1.04], ['DR5', 0.7098], ['QS3T', 0.4804], ['DR6', 0.4998], ['DR1', 0.645], ['RB', 2.6179938779914944], ['DR2', 0.97], ['RB', 2.6179938779914944], ['DR3', 6.8390117], ['QS1F', 1.04], ['DR4', 0.6], ['QS2D', 1.04], ['DR5', 0.7098], ['QS3T', 0.4804], ['DR6', 0.4998], ['DR1', 0.645], ['RB', 2.6179938779914944], ['DR2', 0.97], ['RB', 2.6179938779914944], ['DR3', 6.8390117], ['QS1F', 1.04], ['DR4', 0.6], ['QS2D', 1.04], ['DR5', 0.7098], ['QS3T', 0.4804], ['DR6', 0.4998], ['DR1', 0.645], ['RB', 2.6179938779914944], ['DR2', 0.97], ['RB', 2.6179938779914944], ['DR3', 6.8390117], ['QS1F', 1.04], ['DR4', 0.6], ['QS2D', 1.04], ['DR5', 0.7098], ['QS3T', 0.4804], ['DR6', 0.4998], ['DR1', 0.645], ['RB', 2.6179938779914944], ['DR2', 0.97], ['RB', 2.6179938779914944], ['DR3', 6.8390117], ['QS1F', 1.04], ['DR4', 0.6], ['QS2D', 1.04], ['DR5', 0.7098], ['QS3T', 0.4804], ['DR6', 0.4998], ['DR1', 0.645], ['RB', 2.6179938779914944], ['DR2', 0.97], ['RB', 2.6179938779914944], ['DR3', 6.8390117], ['QS1F', 1.04], ['DR4', 0.6], ['QS2D', 1.04], ['DR5', 0.7098], ['QS3T', 0.4804], ['DR6', 0.4998], ['DR1', 0.645], ['RB', 2.6179938779914944], ['DR2', 0.97], ['RB', 2.6179938779914944], ['DR3', 6.8390117], ['QS1F', 1.04], ['DR4', 0.6], ['QS2D', 1.04], ['DR5', 0.7098], ['QS3T', 0.4804], ['DR6', 0.4998], ['DR1', 0.645], ['RB', 2.6179938779914944], ['DR2', 0.97], ['RB', 2.6179938779914944], ['DR3', 6.8390117], ['QS1F', 1.04], ['DR4', 0.6], ['QS2D', 1.04], ['DR5', 0.7098], ['QS3T', 0.4804], ['DR6', 0.4998], ['DR1', 0.645], ['RB', 2.6179938779914944], ['DR2', 0.97], ['RB', 2.6179938779914944], ['DR3', 6.8390117], ['QS1F', 1.04], ['DR4', 0.6], ['QS2D', 1.04], ['DR5', 0.7098], ['QS3T', 0.4804], ['DR6', 0.4998], ['DR1', 0.645], ['RB', 2.6179938779914944], ['DR2', 0.97], ['RB', 2.6179938779914944], ['DR3', 6.8390117], ['QS1F', 1.04], ['DR4', 0.6], ['QS2D', 1.04], ['DR5', 0.7098], ['QS3T', 0.4804], ['DR6', 0.4998]]\n",
      "133\n"
     ]
    }
   ],
   "source": [
    "# Append FIRST and SECOND parts of sequence\n",
    "\n",
    "FINAL_LINE=[]\n",
    "L_fin = 0.\n",
    "L_fin, FINAL_LINE = AppendLineToSequence(FIRST_LINE, SEC_LINE, L_fin)\n",
    "print L_fin\n",
    "print FINAL_LINE\n",
    "print len(FINAL_LINE)"
   ]
  },
  {
   "cell_type": "code",
   "execution_count": 24,
   "metadata": {},
   "outputs": [
    {
     "name": "stdout",
     "output_type": "stream",
     "text": [
      "SIS18  : SEQUENCE, REFER=ENTRY, L =  216.719993472 ;\n",
      "DR1 ,  at =   0.0 ;\n",
      "RB ,  at =   0.645 ;\n",
      "DR2 ,  at =   3.26299387799 ;\n",
      "RB ,  at =   4.23299387799 ;\n",
      "DR3 ,  at =   6.85098775598 ;\n",
      "QS1F ,  at =   13.689999456 ;\n",
      "DR4 ,  at =   14.729999456 ;\n",
      "QS2D ,  at =   15.329999456 ;\n",
      "DR5 ,  at =   16.369999456 ;\n",
      "QS3T ,  at =   17.079799456 ;\n",
      "DR6 ,  at =   17.560199456 ;\n",
      "S ,  at =   18.059999456 ;\n",
      "DR1 ,  at =   18.059999456 ;\n",
      "RB ,  at =   18.704999456 ;\n",
      "DR2 ,  at =   21.322993334 ;\n",
      "RB ,  at =   22.292993334 ;\n",
      "DR3 ,  at =   24.910987212 ;\n",
      "QS1F ,  at =   31.749998912 ;\n",
      "DR4 ,  at =   32.789998912 ;\n",
      "QS2D ,  at =   33.389998912 ;\n",
      "DR5 ,  at =   34.429998912 ;\n",
      "QS3T ,  at =   35.139798912 ;\n",
      "DR6 ,  at =   35.620198912 ;\n",
      "DR1 ,  at =   36.119998912 ;\n",
      "RB ,  at =   36.764998912 ;\n",
      "DR2 ,  at =   39.38299279 ;\n",
      "RB ,  at =   40.35299279 ;\n",
      "DR3 ,  at =   42.9709866679 ;\n",
      "QS1F ,  at =   49.8099983679 ;\n",
      "DR4 ,  at =   50.8499983679 ;\n",
      "QS2D ,  at =   51.4499983679 ;\n",
      "DR5 ,  at =   52.4899983679 ;\n",
      "QS3T ,  at =   53.1997983679 ;\n",
      "DR6 ,  at =   53.6801983679 ;\n",
      "DR1 ,  at =   54.1799983679 ;\n",
      "RB ,  at =   54.8249983679 ;\n",
      "DR2 ,  at =   57.4429922459 ;\n",
      "RB ,  at =   58.4129922459 ;\n",
      "DR3 ,  at =   61.0309861239 ;\n",
      "QS1F ,  at =   67.8699978239 ;\n",
      "DR4 ,  at =   68.9099978239 ;\n",
      "QS2D ,  at =   69.5099978239 ;\n",
      "DR5 ,  at =   70.5499978239 ;\n",
      "QS3T ,  at =   71.2597978239 ;\n",
      "DR6 ,  at =   71.7401978239 ;\n",
      "DR1 ,  at =   72.2399978239 ;\n",
      "RB ,  at =   72.8849978239 ;\n",
      "DR2 ,  at =   75.5029917019 ;\n",
      "RB ,  at =   76.4729917019 ;\n",
      "DR3 ,  at =   79.0909855799 ;\n",
      "QS1F ,  at =   85.9299972799 ;\n",
      "DR4 ,  at =   86.9699972799 ;\n",
      "QS2D ,  at =   87.5699972799 ;\n",
      "DR5 ,  at =   88.6099972799 ;\n",
      "QS3T ,  at =   89.3197972799 ;\n",
      "DR6 ,  at =   89.8001972799 ;\n",
      "DR1 ,  at =   90.2999972799 ;\n",
      "RB ,  at =   90.9449972799 ;\n",
      "DR2 ,  at =   93.5629911579 ;\n",
      "RB ,  at =   94.5329911579 ;\n",
      "DR3 ,  at =   97.1509850359 ;\n",
      "QS1F ,  at =   103.989996736 ;\n",
      "DR4 ,  at =   105.029996736 ;\n",
      "QS2D ,  at =   105.629996736 ;\n",
      "DR5 ,  at =   106.669996736 ;\n",
      "QS3T ,  at =   107.379796736 ;\n",
      "DR6 ,  at =   107.860196736 ;\n",
      "DR1 ,  at =   108.359996736 ;\n",
      "RB ,  at =   109.004996736 ;\n",
      "DR2 ,  at =   111.622990614 ;\n",
      "RB ,  at =   112.592990614 ;\n",
      "DR3 ,  at =   115.210984492 ;\n",
      "QS1F ,  at =   122.049996192 ;\n",
      "DR4 ,  at =   123.089996192 ;\n",
      "QS2D ,  at =   123.689996192 ;\n",
      "DR5 ,  at =   124.729996192 ;\n",
      "QS3T ,  at =   125.439796192 ;\n",
      "DR6 ,  at =   125.920196192 ;\n",
      "DR1 ,  at =   126.419996192 ;\n",
      "RB ,  at =   127.064996192 ;\n",
      "DR2 ,  at =   129.68299007 ;\n",
      "RB ,  at =   130.65299007 ;\n",
      "DR3 ,  at =   133.270983948 ;\n",
      "QS1F ,  at =   140.109995648 ;\n",
      "DR4 ,  at =   141.149995648 ;\n",
      "QS2D ,  at =   141.749995648 ;\n",
      "DR5 ,  at =   142.789995648 ;\n",
      "QS3T ,  at =   143.499795648 ;\n",
      "DR6 ,  at =   143.980195648 ;\n",
      "DR1 ,  at =   144.479995648 ;\n",
      "RB ,  at =   145.124995648 ;\n",
      "DR2 ,  at =   147.742989526 ;\n",
      "RB ,  at =   148.712989526 ;\n",
      "DR3 ,  at =   151.330983404 ;\n",
      "QS1F ,  at =   158.169995104 ;\n",
      "DR4 ,  at =   159.209995104 ;\n",
      "QS2D ,  at =   159.809995104 ;\n",
      "DR5 ,  at =   160.849995104 ;\n",
      "QS3T ,  at =   161.559795104 ;\n",
      "DR6 ,  at =   162.040195104 ;\n",
      "DR1 ,  at =   162.539995104 ;\n",
      "RB ,  at =   163.184995104 ;\n",
      "DR2 ,  at =   165.802988982 ;\n",
      "RB ,  at =   166.772988982 ;\n",
      "DR3 ,  at =   169.39098286 ;\n",
      "QS1F ,  at =   176.22999456 ;\n",
      "DR4 ,  at =   177.26999456 ;\n",
      "QS2D ,  at =   177.86999456 ;\n",
      "DR5 ,  at =   178.90999456 ;\n",
      "QS3T ,  at =   179.61979456 ;\n",
      "DR6 ,  at =   180.10019456 ;\n",
      "DR1 ,  at =   180.59999456 ;\n",
      "RB ,  at =   181.24499456 ;\n",
      "DR2 ,  at =   183.862988438 ;\n",
      "RB ,  at =   184.832988438 ;\n",
      "DR3 ,  at =   187.450982316 ;\n",
      "QS1F ,  at =   194.289994016 ;\n",
      "DR4 ,  at =   195.329994016 ;\n",
      "QS2D ,  at =   195.929994016 ;\n",
      "DR5 ,  at =   196.969994016 ;\n",
      "QS3T ,  at =   197.679794016 ;\n",
      "DR6 ,  at =   198.160194016 ;\n",
      "DR1 ,  at =   198.659994016 ;\n",
      "RB ,  at =   199.304994016 ;\n",
      "DR2 ,  at =   201.922987894 ;\n",
      "RB ,  at =   202.892987894 ;\n",
      "DR3 ,  at =   205.510981772 ;\n",
      "QS1F ,  at =   212.349993472 ;\n",
      "DR4 ,  at =   213.389993472 ;\n",
      "QS2D ,  at =   213.989993472 ;\n",
      "DR5 ,  at =   215.029993472 ;\n",
      "QS3T ,  at =   215.739793472 ;\n",
      "DR6 ,  at =   216.220193472 ;\n",
      "ENDMARK,at=  216.719993472 ;\n"
     ]
    }
   ],
   "source": [
    "##################\n",
    "# FINAL SEQUENCE #\n",
    "##################\n",
    "SEQ_NAME = 'SIS18'\n",
    "print SEQ_NAME, ' : SEQUENCE, REFER=ENTRY, L = ', GetTotalLengthArray(FINAL_LINE), ';'\n",
    "\n",
    "L_tot = 0.\n",
    "\n",
    "for i in FINAL_LINE:\n",
    "    L_check = L_tot  \n",
    "    print i[0], ',  at =  ', L_tot, ';'\n",
    "    L_tot = L_tot + i[1]\n",
    "  \n",
    "print 'ENDSEQUENCE;'"
   ]
  },
  {
   "cell_type": "code",
   "execution_count": null,
   "metadata": {
    "collapsed": true
   },
   "outputs": [],
   "source": []
  },
  {
   "cell_type": "code",
   "execution_count": null,
   "metadata": {
    "collapsed": true
   },
   "outputs": [],
   "source": []
  },
  {
   "cell_type": "code",
   "execution_count": null,
   "metadata": {
    "collapsed": true
   },
   "outputs": [],
   "source": []
  },
  {
   "cell_type": "code",
   "execution_count": null,
   "metadata": {
    "collapsed": true
   },
   "outputs": [],
   "source": []
  },
  {
   "cell_type": "code",
   "execution_count": null,
   "metadata": {
    "collapsed": true
   },
   "outputs": [],
   "source": []
  },
  {
   "cell_type": "code",
   "execution_count": null,
   "metadata": {
    "collapsed": true
   },
   "outputs": [],
   "source": []
  }
 ],
 "metadata": {
  "kernelspec": {
   "display_name": "Python 2",
   "language": "python",
   "name": "python2"
  },
  "language_info": {
   "codemirror_mode": {
    "name": "ipython",
    "version": 2
   },
   "file_extension": ".py",
   "mimetype": "text/x-python",
   "name": "python",
   "nbconvert_exporter": "python",
   "pygments_lexer": "ipython2",
   "version": "2.7.13"
  }
 },
 "nbformat": 4,
 "nbformat_minor": 2
}
