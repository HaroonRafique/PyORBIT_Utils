{
 "cells": [
  {
   "cell_type": "code",
   "execution_count": 3,
   "metadata": {},
   "outputs": [],
   "source": [
    "import os\n",
    "import glob\n",
    "import imageio"
   ]
  },
  {
   "cell_type": "markdown",
   "metadata": {},
   "source": [
    "# Read Files"
   ]
  },
  {
   "cell_type": "code",
   "execution_count": 4,
   "metadata": {
    "scrolled": true
   },
   "outputs": [
    {
     "name": "stdout",
     "output_type": "stream",
     "text": [
      "X_Phase_Space_V_6p10_turn_17.png\n",
      "X_Phase_Space_V_6p10_turn_17.png\n",
      "X_Phase_Space_V_6p10_turn_20.png\n",
      "X_Phase_Space_V_6p10_turn_20.png\n",
      "X_Phase_Space_V_6p10_turn_1.png\n",
      "X_Phase_Space_V_6p10_turn_1.png\n",
      "X_Phase_Space_V_6p10_turn_12.png\n",
      "X_Phase_Space_V_6p10_turn_12.png\n",
      "X_Phase_Space_V_6p10_turn_34.png\n",
      "X_Phase_Space_V_6p10_turn_34.png\n",
      "X_Phase_Space_V_6p10_turn_38.png\n",
      "X_Phase_Space_V_6p10_turn_38.png\n",
      "X_Phase_Space_V_6p10_turn_41.png\n",
      "X_Phase_Space_V_6p10_turn_41.png\n",
      "X_Phase_Space_V_6p10_turn_23.png\n",
      "X_Phase_Space_V_6p10_turn_23.png\n",
      "X_Phase_Space_V_6p10_turn_30.png\n",
      "X_Phase_Space_V_6p10_turn_30.png\n",
      "X_Phase_Space_V_6p10_turn_49.png\n",
      "X_Phase_Space_V_6p10_turn_49.png\n",
      "X_Phase_Space_V_6p10_turn_19.png\n",
      "X_Phase_Space_V_6p10_turn_19.png\n",
      "X_Phase_Space_V_6p10_turn_46.png\n",
      "X_Phase_Space_V_6p10_turn_46.png\n",
      "X_Phase_Space_V_6p10_turn_32.png\n",
      "X_Phase_Space_V_6p10_turn_32.png\n",
      "X_Phase_Space_V_6p10_turn_21.png\n",
      "X_Phase_Space_V_6p10_turn_21.png\n",
      "X_Phase_Space_V_6p10_turn_22.png\n",
      "X_Phase_Space_V_6p10_turn_22.png\n",
      "X_Phase_Space_V_6p10_turn_0.png\n",
      "X_Phase_Space_V_6p10_turn_0.png\n",
      "X_Phase_Space_V_6p10_turn_13.png\n",
      "X_Phase_Space_V_6p10_turn_13.png\n",
      "X_Phase_Space_V_6p10_turn_16.png\n",
      "X_Phase_Space_V_6p10_turn_16.png\n",
      "X_Phase_Space_V_6p10_turn_25.png\n",
      "X_Phase_Space_V_6p10_turn_25.png\n",
      "X_Phase_Space_V_6p10_turn_6.png\n",
      "X_Phase_Space_V_6p10_turn_6.png\n",
      "X_Phase_Space_V_6p10_turn_43.png\n",
      "X_Phase_Space_V_6p10_turn_43.png\n",
      "X_Phase_Space_V_6p10_turn_42.png\n",
      "X_Phase_Space_V_6p10_turn_42.png\n",
      "X_Phase_Space_V_6p10_turn_8.png\n",
      "X_Phase_Space_V_6p10_turn_8.png\n",
      "X_Phase_Space_V_6p10_turn_39.png\n",
      "X_Phase_Space_V_6p10_turn_39.png\n",
      "X_Phase_Space_V_6p10_turn_37.png\n",
      "X_Phase_Space_V_6p10_turn_37.png\n",
      "X_Phase_Space_V_6p10_turn_15.png\n",
      "X_Phase_Space_V_6p10_turn_15.png\n",
      "X_Phase_Space_V_6p10_turn_4.png\n",
      "X_Phase_Space_V_6p10_turn_4.png\n",
      "X_Phase_Space_V_6p10_turn_10.png\n",
      "X_Phase_Space_V_6p10_turn_10.png\n",
      "X_Phase_Space_V_6p10_turn_27.png\n",
      "X_Phase_Space_V_6p10_turn_27.png\n",
      "X_Phase_Space_V_6p10_turn_14.png\n",
      "X_Phase_Space_V_6p10_turn_14.png\n",
      "X_Phase_Space_V_6p10_turn_26.png\n",
      "X_Phase_Space_V_6p10_turn_26.png\n",
      "X_Phase_Space_V_6p10_turn_40.png\n",
      "X_Phase_Space_V_6p10_turn_40.png\n",
      "X_Phase_Space_V_6p10_turn_28.png\n",
      "X_Phase_Space_V_6p10_turn_28.png\n",
      "X_Phase_Space_V_6p10_turn_7.png\n",
      "X_Phase_Space_V_6p10_turn_7.png\n",
      "X_Phase_Space_V_6p10_turn_24.png\n",
      "X_Phase_Space_V_6p10_turn_24.png\n",
      "X_Phase_Space_V_6p10_turn_48.png\n",
      "X_Phase_Space_V_6p10_turn_48.png\n",
      "X_Phase_Space_V_6p10_turn_45.png\n",
      "X_Phase_Space_V_6p10_turn_45.png\n",
      "X_Phase_Space_V_6p10_turn_44.png\n",
      "X_Phase_Space_V_6p10_turn_44.png\n",
      "X_Phase_Space_V_6p10_turn_29.png\n",
      "X_Phase_Space_V_6p10_turn_29.png\n",
      "X_Phase_Space_V_6p10_turn_31.png\n",
      "X_Phase_Space_V_6p10_turn_31.png\n",
      "X_Phase_Space_V_6p10_turn_35.png\n",
      "X_Phase_Space_V_6p10_turn_35.png\n",
      "X_Phase_Space_V_6p10_turn_9.png\n",
      "X_Phase_Space_V_6p10_turn_9.png\n",
      "X_Phase_Space_V_6p10_turn_3.png\n",
      "X_Phase_Space_V_6p10_turn_3.png\n",
      "X_Phase_Space_V_6p10_turn_2.png\n",
      "X_Phase_Space_V_6p10_turn_2.png\n",
      "X_Phase_Space_V_6p10_turn_33.png\n",
      "X_Phase_Space_V_6p10_turn_33.png\n",
      "X_Phase_Space_V_6p10_turn_5.png\n",
      "X_Phase_Space_V_6p10_turn_5.png\n",
      "X_Phase_Space_V_6p10_turn_11.png\n",
      "X_Phase_Space_V_6p10_turn_11.png\n",
      "X_Phase_Space_V_6p10_turn_47.png\n",
      "X_Phase_Space_V_6p10_turn_47.png\n",
      "X_Phase_Space_V_6p10_turn_36.png\n",
      "X_Phase_Space_V_6p10_turn_36.png\n",
      "X_Phase_Space_V_6p10_turn_18.png\n",
      "X_Phase_Space_V_6p10_turn_18.png\n"
     ]
    }
   ],
   "source": [
    "input_folder = 'X'\n",
    "input_filenames = []\n",
    "\n",
    "os.chdir(input_folder)\n",
    "\n",
    "for file in glob.glob('*.png'):\n",
    "    print file\n",
    "    print file.split('/')[-1]\n",
    "    input_filenames.append(file.split('/')[-1])\n",
    "    \n"
   ]
  },
  {
   "cell_type": "markdown",
   "metadata": {},
   "source": [
    "# Create Gif"
   ]
  },
  {
   "cell_type": "code",
   "execution_count": 20,
   "metadata": {},
   "outputs": [
    {
     "name": "stdout",
     "output_type": "stream",
     "text": [
      "Creating GIF\n"
     ]
    },
    {
     "ename": "ValueError",
     "evalue": "Could not find a format to write the specified file in mode 'I'",
     "output_type": "error",
     "traceback": [
      "\u001b[0;31m---------------------------------------------------------------------------\u001b[0m",
      "\u001b[0;31mValueError\u001b[0m                                Traceback (most recent call last)",
      "\u001b[0;32m<ipython-input-20-c9a5c8a5238f>\u001b[0m in \u001b[0;36m<module>\u001b[0;34m()\u001b[0m\n\u001b[1;32m      4\u001b[0m     \u001b[0mimages\u001b[0m\u001b[0;34m.\u001b[0m\u001b[0mappend\u001b[0m\u001b[0;34m(\u001b[0m\u001b[0mimageio\u001b[0m\u001b[0;34m.\u001b[0m\u001b[0mimread\u001b[0m\u001b[0;34m(\u001b[0m\u001b[0mfilename\u001b[0m\u001b[0;34m)\u001b[0m\u001b[0;34m)\u001b[0m\u001b[0;34m\u001b[0m\u001b[0m\n\u001b[1;32m      5\u001b[0m \u001b[0mgif_savename\u001b[0m \u001b[0;34m=\u001b[0m \u001b[0minput_filenames\u001b[0m\u001b[0;34m[\u001b[0m\u001b[0;36m0\u001b[0m\u001b[0;34m]\u001b[0m\u001b[0;34m[\u001b[0m\u001b[0;34m:\u001b[0m\u001b[0;36m10\u001b[0m\u001b[0;34m]\u001b[0m\u001b[0;34m\u001b[0m\u001b[0m\n\u001b[0;32m----> 6\u001b[0;31m \u001b[0mimageio\u001b[0m\u001b[0;34m.\u001b[0m\u001b[0mmimsave\u001b[0m\u001b[0;34m(\u001b[0m\u001b[0mgif_savename\u001b[0m\u001b[0;34m,\u001b[0m \u001b[0mimages\u001b[0m\u001b[0;34m)\u001b[0m\u001b[0;34m\u001b[0m\u001b[0m\n\u001b[0m\u001b[1;32m      7\u001b[0m \u001b[0;32mprint\u001b[0m \u001b[0;34m'GIF Created'\u001b[0m\u001b[0;34m\u001b[0m\u001b[0m\n",
      "\u001b[0;32m/usr/lib/python2.7/site-packages/imageio/core/functions.pyc\u001b[0m in \u001b[0;36mmimwrite\u001b[0;34m(uri, ims, format, **kwargs)\u001b[0m\n\u001b[1;32m    318\u001b[0m     \"\"\"\n\u001b[1;32m    319\u001b[0m     \u001b[0;31m# Get writer\u001b[0m\u001b[0;34m\u001b[0m\u001b[0;34m\u001b[0m\u001b[0m\n\u001b[0;32m--> 320\u001b[0;31m     \u001b[0mwriter\u001b[0m \u001b[0;34m=\u001b[0m \u001b[0mget_writer\u001b[0m\u001b[0;34m(\u001b[0m\u001b[0muri\u001b[0m\u001b[0;34m,\u001b[0m \u001b[0mformat\u001b[0m\u001b[0;34m,\u001b[0m \u001b[0;34m'I'\u001b[0m\u001b[0;34m,\u001b[0m \u001b[0;34m**\u001b[0m\u001b[0mkwargs\u001b[0m\u001b[0;34m)\u001b[0m\u001b[0;34m\u001b[0m\u001b[0m\n\u001b[0m\u001b[1;32m    321\u001b[0m     \u001b[0mwritten\u001b[0m \u001b[0;34m=\u001b[0m \u001b[0;36m0\u001b[0m\u001b[0;34m\u001b[0m\u001b[0m\n\u001b[1;32m    322\u001b[0m \u001b[0;34m\u001b[0m\u001b[0m\n",
      "\u001b[0;32m/usr/lib/python2.7/site-packages/imageio/core/functions.pyc\u001b[0m in \u001b[0;36mget_writer\u001b[0;34m(uri, format, mode, **kwargs)\u001b[0m\n\u001b[1;32m    168\u001b[0m     \u001b[0;32mif\u001b[0m \u001b[0mformat\u001b[0m \u001b[0;32mis\u001b[0m \u001b[0mNone\u001b[0m\u001b[0;34m:\u001b[0m\u001b[0;34m\u001b[0m\u001b[0m\n\u001b[1;32m    169\u001b[0m         raise ValueError('Could not find a format to write the specified file '\n\u001b[0;32m--> 170\u001b[0;31m                          'in mode %r' % mode)\n\u001b[0m\u001b[1;32m    171\u001b[0m \u001b[0;34m\u001b[0m\u001b[0m\n\u001b[1;32m    172\u001b[0m     \u001b[0;31m# Return its writer object\u001b[0m\u001b[0;34m\u001b[0m\u001b[0;34m\u001b[0m\u001b[0m\n",
      "\u001b[0;31mValueError\u001b[0m: Could not find a format to write the specified file in mode 'I'"
     ]
    }
   ],
   "source": [
    "print 'Creating GIF'\n",
    "images = []\n",
    "for filename in sorted(input_filenames):\n",
    "    images.append(imageio.imread(filename))\n",
    "gif_savename = input_filenames[0][:10]\n",
    "imageio.mimsave(gif_savename, images)\n",
    "print 'GIF Created'"
   ]
  },
  {
   "cell_type": "code",
   "execution_count": null,
   "metadata": {},
   "outputs": [],
   "source": []
  }
 ],
 "metadata": {
  "kernelspec": {
   "display_name": "Python 2",
   "language": "python",
   "name": "python2"
  },
  "language_info": {
   "codemirror_mode": {
    "name": "ipython",
    "version": 2
   },
   "file_extension": ".py",
   "mimetype": "text/x-python",
   "name": "python",
   "nbconvert_exporter": "python",
   "pygments_lexer": "ipython2",
   "version": "2.7.15"
  }
 },
 "nbformat": 4,
 "nbformat_minor": 2
}
