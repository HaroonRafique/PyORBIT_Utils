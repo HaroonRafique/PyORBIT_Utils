{
 "cells": [
  {
   "cell_type": "markdown",
   "metadata": {},
   "source": [
    "# Note that this is not a good method for calculating tunespread. Use the tunespread tool written by A. Oeftiger with a MAD-X lattice for real calculation"
   ]
  },
  {
   "cell_type": "code",
   "execution_count": 1,
   "metadata": {},
   "outputs": [],
   "source": [
    "import numpy as np\n",
    "\n",
    "from scipy.constants import m_p, m_e, speed_of_light, e\n",
    "\n",
    "def Maximum_tunespread (r_0, R, N_b, beta, gamma, sig_z, eps):\n",
    "    \n",
    "    return abs((-r_0 * R * N_b) / (2 * np.sqrt(2*np.pi) * beta**2 * gamma**3 * sig_z * eps))"
   ]
  },
  {
   "cell_type": "code",
   "execution_count": 2,
   "metadata": {},
   "outputs": [
    {
     "data": {
      "text/plain": [
       "0.23032489095870817"
      ]
     },
     "execution_count": 2,
     "metadata": {},
     "output_type": "execute_result"
    }
   ],
   "source": [
    "# High brightness MD4224 PS beam:\n",
    "r_0 = 2.8179403267e-15 *m_e/m_p\n",
    "beta = 0.9159915293879255\n",
    "gamma = 2.49253731343   \n",
    "R = 628\n",
    "N_b = 7E11\n",
    "sig_z = speed_of_light * 150E-9\n",
    "eps = 1E-6\n",
    "b_f = 0.413\n",
    "dp_p = 8.71E-4\n",
    "Maximum_tunespread (r_0, R, N_b, beta, gamma, sig_z, eps)"
   ]
  },
  {
   "cell_type": "code",
   "execution_count": 3,
   "metadata": {},
   "outputs": [
    {
     "data": {
      "text/plain": [
       "2.012011496754529e-06"
      ]
     },
     "execution_count": 3,
     "metadata": {},
     "output_type": "execute_result"
    }
   ],
   "source": [
    "# Gaussian line density\n",
    "lam = ( N_b * e )/(np.sqrt(2*np.pi) / sig_z) \n",
    "\n",
    "lam"
   ]
  },
  {
   "cell_type": "code",
   "execution_count": 4,
   "metadata": {},
   "outputs": [
    {
     "data": {
      "text/plain": [
       "0.24677666888433014"
      ]
     },
     "execution_count": 4,
     "metadata": {},
     "output_type": "execute_result"
    }
   ],
   "source": [
    "# Low brightness MD4224 PS beam:\n",
    "r_0 = 2.8179403267e-15 *m_e/m_p\n",
    "beta = 0.9159915293879255\n",
    "gamma = 2.49253731343   \n",
    "R = 628\n",
    "N_b = 5E11\n",
    "sig_z = speed_of_light * 100E-9\n",
    "eps = 1E-6\n",
    "b_f = 0.413\n",
    "dp_p =5.54E-4\n",
    "Maximum_tunespread (r_0, R, N_b, beta, gamma, sig_z, eps)"
   ]
  },
  {
   "cell_type": "code",
   "execution_count": 5,
   "metadata": {},
   "outputs": [
    {
     "name": "stdout",
     "output_type": "stream",
     "text": [
      "beta =  0.5198122836207495 , gamma =  1.17057569296\n"
     ]
    }
   ],
   "source": [
    "#PSB 160MeV\n",
    "E = 160E6\n",
    "E_rest = 938E6\n",
    "E_rest\n",
    "E_tot = E + E_rest\n",
    "gamma = E_tot / E_rest\n",
    "beta = np.sqrt( 1 - (1/gamma)**2 )\n",
    "print 'beta = ', beta, ', gamma = ', gamma"
   ]
  },
  {
   "cell_type": "code",
   "execution_count": 20,
   "metadata": {},
   "outputs": [
    {
     "name": "stdout",
     "output_type": "stream",
     "text": [
      "beta =  0.3140915111170623 , gamma =  1.05330490405\n"
     ]
    }
   ],
   "source": [
    "#PSB 50MeV\n",
    "E = 50E6\n",
    "E_rest = 938E6\n",
    "E_rest\n",
    "E_tot = E + E_rest\n",
    "gamma = E_tot / E_rest\n",
    "beta = np.sqrt( 1 - (1/gamma)**2 )\n",
    "print 'beta = ', beta, ', gamma = ', gamma"
   ]
  },
  {
   "cell_type": "code",
   "execution_count": 21,
   "metadata": {},
   "outputs": [
    {
     "name": "stdout",
     "output_type": "stream",
     "text": [
      "310322412.98365754\n"
     ]
    }
   ],
   "source": [
    "momentum = gamma * E_rest * beta\n",
    "print momentum"
   ]
  },
  {
   "cell_type": "code",
   "execution_count": 22,
   "metadata": {},
   "outputs": [
    {
     "name": "stdout",
     "output_type": "stream",
     "text": [
      "0.3308341289804451\n"
     ]
    }
   ],
   "source": [
    "print momentum/E_rest"
   ]
  },
  {
   "cell_type": "code",
   "execution_count": 17,
   "metadata": {},
   "outputs": [
    {
     "name": "stdout",
     "output_type": "stream",
     "text": [
      "beta =  0.9159915293879255 , gamma =  2.49253731343\n"
     ]
    }
   ],
   "source": [
    "#1.4 GeV\n",
    "E = 1.4E9\n",
    "E_rest = 938E6\n",
    "E_rest\n",
    "E_tot = E + E_rest\n",
    "gamma = E_tot / E_rest\n",
    "beta = np.sqrt( 1 - (1/gamma)**2 )\n",
    "print 'beta = ', beta, ', gamma = ', gamma"
   ]
  },
  {
   "cell_type": "code",
   "execution_count": 18,
   "metadata": {},
   "outputs": [
    {
     "name": "stdout",
     "output_type": "stream",
     "text": [
      "2.14158819570897\n"
     ]
    }
   ],
   "source": [
    "momentum = gamma * E_rest * beta\n",
    "print momentum / 1E9"
   ]
  },
  {
   "cell_type": "code",
   "execution_count": 49,
   "metadata": {},
   "outputs": [
    {
     "name": "stdout",
     "output_type": "stream",
     "text": [
      "beta =  0.9476655441957715 , gamma =  3.13219616205\n"
     ]
    }
   ],
   "source": [
    "#2 GeV\n",
    "E = 2E9\n",
    "E_rest = 938E6\n",
    "E_rest\n",
    "E_tot = E + E_rest\n",
    "gamma = E_tot / E_rest\n",
    "beta = np.sqrt( 1 - (1/gamma)**2 )\n",
    "print 'beta = ', beta, ', gamma = ', gamma"
   ]
  },
  {
   "cell_type": "code",
   "execution_count": 50,
   "metadata": {},
   "outputs": [
    {
     "data": {
      "text/plain": [
       "0.19587359115176392"
      ]
     },
     "execution_count": 50,
     "metadata": {},
     "output_type": "execute_result"
    }
   ],
   "source": [
    "# BCMS post LS2:\n",
    "\n",
    "r_0 = 2.8179403267e-15 *m_e/m_p\n",
    "beta = 0.948\n",
    "gamma = 3.13   \n",
    "R = 628\n",
    "N_b = 16.25E11\n",
    "sig_z = speed_of_light * 135E-9\n",
    "eps = 1.43E-6\n",
    "dp_p = 1.1E-3\n",
    "Maximum_tunespread (r_0, R, N_b, beta, gamma, sig_z, eps)"
   ]
  },
  {
   "cell_type": "code",
   "execution_count": 51,
   "metadata": {},
   "outputs": [
    {
     "data": {
      "text/plain": [
       "0.25528620919068634"
      ]
     },
     "execution_count": 51,
     "metadata": {},
     "output_type": "execute_result"
    }
   ],
   "source": [
    "# BCMS OP:\n",
    "\n",
    "r_0 = 2.8179403267e-15 *m_e/m_p\n",
    "beta = 0.9159915293879255\n",
    "gamma = 2.49253731343  \n",
    "R = 628\n",
    "N_b = 7.5E11\n",
    "sig_z = speed_of_light * 145E-9\n",
    "eps = 1E-6\n",
    "dp_p = 0.9E-3\n",
    "Maximum_tunespread (r_0, R, N_b, beta, gamma, sig_z, eps)"
   ]
  },
  {
   "cell_type": "code",
   "execution_count": 52,
   "metadata": {},
   "outputs": [
    {
     "data": {
      "text/plain": [
       "0.23881613117838402"
      ]
     },
     "execution_count": 52,
     "metadata": {},
     "output_type": "execute_result"
    }
   ],
   "source": [
    "# BCMS OP 1.5eVs:\n",
    "\n",
    "r_0 = 2.8179403267e-15 *m_e/m_p\n",
    "beta = 0.9159915293879255\n",
    "gamma = 2.49253731343  \n",
    "R = 628\n",
    "N_b = 7.5E11\n",
    "sig_z = speed_of_light * 155E-9\n",
    "eps = 1E-6\n",
    "dp_p = 1.4E-3\n",
    "Maximum_tunespread (r_0, R, N_b, beta, gamma, sig_z, eps)"
   ]
  },
  {
   "cell_type": "code",
   "execution_count": null,
   "metadata": {},
   "outputs": [],
   "source": []
  }
 ],
 "metadata": {
  "kernelspec": {
   "display_name": "Python 2",
   "language": "python",
   "name": "python2"
  },
  "language_info": {
   "codemirror_mode": {
    "name": "ipython",
    "version": 2
   },
   "file_extension": ".py",
   "mimetype": "text/x-python",
   "name": "python",
   "nbconvert_exporter": "python",
   "pygments_lexer": "ipython2",
   "version": "2.7.15"
  }
 },
 "nbformat": 4,
 "nbformat_minor": 2
}
